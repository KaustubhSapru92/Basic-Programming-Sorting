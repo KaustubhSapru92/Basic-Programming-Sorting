{
 "cells": [
  {
   "cell_type": "code",
   "execution_count": 1,
   "metadata": {},
   "outputs": [
    {
     "name": "stdout",
     "output_type": "stream",
     "text": [
      "Enter the number of elements you want in an array\n",
      "10\n",
      "The unsorted array is: \n",
      "[1, 4, 8, 10, 7, 3, 6, 2, 5, 9]\n",
      "\n",
      "[1, 4, 8, 7, 10, 3, 6, 2, 5, 9]\n",
      "[1, 4, 8, 7, 3, 10, 6, 2, 5, 9]\n",
      "[1, 4, 8, 7, 3, 6, 10, 2, 5, 9]\n",
      "[1, 4, 8, 7, 3, 6, 2, 10, 5, 9]\n",
      "[1, 4, 8, 7, 3, 6, 2, 5, 10, 9]\n",
      "[1, 4, 8, 7, 3, 6, 2, 5, 9, 10]\n",
      "[1, 4, 7, 8, 3, 6, 2, 5, 9, 10]\n",
      "[1, 4, 7, 3, 8, 6, 2, 5, 9, 10]\n",
      "[1, 4, 7, 3, 6, 8, 2, 5, 9, 10]\n",
      "[1, 4, 7, 3, 6, 2, 8, 5, 9, 10]\n",
      "[1, 4, 7, 3, 6, 2, 5, 8, 9, 10]\n",
      "[1, 4, 3, 7, 6, 2, 5, 8, 9, 10]\n",
      "[1, 4, 3, 6, 7, 2, 5, 8, 9, 10]\n",
      "[1, 4, 3, 6, 2, 7, 5, 8, 9, 10]\n",
      "[1, 4, 3, 6, 2, 5, 7, 8, 9, 10]\n",
      "[1, 3, 4, 6, 2, 5, 7, 8, 9, 10]\n",
      "[1, 3, 4, 2, 6, 5, 7, 8, 9, 10]\n",
      "[1, 3, 4, 2, 5, 6, 7, 8, 9, 10]\n",
      "[1, 3, 2, 4, 5, 6, 7, 8, 9, 10]\n",
      "[1, 2, 3, 4, 5, 6, 7, 8, 9, 10]\n",
      "The sorted array using bubble sort: \n",
      "\n",
      "[1, 2, 3, 4, 5, 6, 7, 8, 9, 10]\n"
     ]
    }
   ],
   "source": [
    "#bubble sort algorithm \n",
    "\n",
    "import random\n",
    "A = []\n",
    "\n",
    "n = int(input('Enter the number of elements you want in an array\\n'))\n",
    "\n",
    "for i in range(1,n+1):\n",
    "    A.append(i)\n",
    "    \n",
    "random.shuffle(A)\n",
    "print('The unsorted array is: \\n' +str(A)+'\\n')\n",
    "\n",
    "for k in range (1,len(A)):\n",
    "    for i in range(0,len(A)-k):\n",
    "        if A[i]>A[i+1]: \n",
    "            a= A[i]\n",
    "            A[i] = A[i+1]\n",
    "            A[i+1] = a\n",
    "            print(A)\n",
    "            \n",
    "print('The sorted array using bubble sort: \\n')\n",
    "print(A)"
   ]
  },
  {
   "cell_type": "code",
   "execution_count": null,
   "metadata": {},
   "outputs": [],
   "source": []
  }
 ],
 "metadata": {
  "kernelspec": {
   "display_name": "Python 3",
   "language": "python",
   "name": "python3"
  },
  "language_info": {
   "codemirror_mode": {
    "name": "ipython",
    "version": 3
   },
   "file_extension": ".py",
   "mimetype": "text/x-python",
   "name": "python",
   "nbconvert_exporter": "python",
   "pygments_lexer": "ipython3",
   "version": "3.7.6"
  }
 },
 "nbformat": 4,
 "nbformat_minor": 4
}
