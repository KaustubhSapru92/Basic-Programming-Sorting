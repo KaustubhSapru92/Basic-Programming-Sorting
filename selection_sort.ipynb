{
 "cells": [
  {
   "cell_type": "code",
   "execution_count": 4,
   "metadata": {},
   "outputs": [
    {
     "name": "stdout",
     "output_type": "stream",
     "text": [
      "Enter the number of elements you want in an array\n",
      "10\n",
      "The unsorted array is: \n",
      "[9, 3, 5, 10, 8, 2, 1, 4, 7, 6]\n",
      "\n",
      "[3, 9, 5, 10, 8, 2, 1, 4, 7, 6]\n",
      "[5, 9, 3, 10, 8, 2, 1, 4, 7, 6]\n",
      "[3, 9, 5, 10, 8, 2, 1, 4, 7, 6]\n",
      "[5, 9, 3, 10, 8, 2, 1, 4, 7, 6]\n",
      "[2, 9, 3, 10, 8, 5, 1, 4, 7, 6]\n",
      "[1, 9, 3, 10, 8, 5, 2, 4, 7, 6]\n",
      "[2, 9, 3, 10, 8, 5, 1, 4, 7, 6]\n",
      "[1, 9, 3, 10, 8, 5, 2, 4, 7, 6]\n",
      "[2, 9, 3, 10, 8, 5, 1, 4, 7, 6]\n",
      "[2, 3, 9, 10, 8, 5, 1, 4, 7, 6]\n",
      "[2, 9, 3, 10, 8, 5, 1, 4, 7, 6]\n",
      "[2, 3, 9, 10, 8, 5, 1, 4, 7, 6]\n",
      "[2, 5, 9, 10, 8, 3, 1, 4, 7, 6]\n",
      "[2, 1, 9, 10, 8, 3, 5, 4, 7, 6]\n",
      "[2, 4, 9, 10, 8, 3, 5, 1, 7, 6]\n",
      "[2, 1, 9, 10, 8, 3, 5, 4, 7, 6]\n",
      "[2, 4, 9, 10, 8, 3, 5, 1, 7, 6]\n",
      "[2, 4, 8, 10, 9, 3, 5, 1, 7, 6]\n",
      "[2, 4, 3, 10, 9, 8, 5, 1, 7, 6]\n",
      "[2, 4, 5, 10, 9, 8, 3, 1, 7, 6]\n",
      "[2, 4, 1, 10, 9, 8, 3, 5, 7, 6]\n",
      "[2, 4, 5, 10, 9, 8, 3, 1, 7, 6]\n",
      "[2, 4, 1, 10, 9, 8, 3, 5, 7, 6]\n",
      "[2, 4, 1, 9, 10, 8, 3, 5, 7, 6]\n",
      "[2, 4, 1, 8, 10, 9, 3, 5, 7, 6]\n",
      "[2, 4, 1, 3, 10, 9, 8, 5, 7, 6]\n",
      "[2, 4, 1, 5, 10, 9, 8, 3, 7, 6]\n",
      "[2, 4, 1, 3, 10, 9, 8, 5, 7, 6]\n",
      "[2, 4, 1, 5, 10, 9, 8, 3, 7, 6]\n",
      "[2, 4, 1, 5, 9, 10, 8, 3, 7, 6]\n",
      "[2, 4, 1, 5, 8, 10, 9, 3, 7, 6]\n",
      "[2, 4, 1, 5, 3, 10, 9, 8, 7, 6]\n",
      "[2, 4, 1, 5, 7, 10, 9, 8, 3, 6]\n",
      "[2, 4, 1, 5, 3, 10, 9, 8, 7, 6]\n",
      "[2, 4, 1, 5, 3, 9, 10, 8, 7, 6]\n",
      "[2, 4, 1, 5, 3, 8, 10, 9, 7, 6]\n",
      "[2, 4, 1, 5, 3, 7, 10, 9, 8, 6]\n",
      "[2, 4, 1, 5, 3, 6, 10, 9, 8, 7]\n",
      "[2, 4, 1, 5, 3, 6, 9, 10, 8, 7]\n",
      "[2, 4, 1, 5, 3, 6, 8, 10, 9, 7]\n",
      "[2, 4, 1, 5, 3, 6, 7, 10, 9, 8]\n",
      "[2, 4, 1, 5, 3, 6, 7, 9, 10, 8]\n",
      "[2, 4, 1, 5, 3, 6, 7, 8, 10, 9]\n",
      "[2, 4, 1, 5, 3, 6, 7, 8, 9, 10]\n",
      "The sorted array using selection sort: \n",
      "\n"
     ]
    },
    {
     "data": {
      "text/plain": [
       "[2, 4, 1, 5, 3, 6, 7, 8, 9, 10]"
      ]
     },
     "execution_count": 4,
     "metadata": {},
     "output_type": "execute_result"
    }
   ],
   "source": [
    "#selection sort algorithm \n",
    "import random\n",
    "A = [10,9,8,7,6,5,4,3,2,1]\n",
    "#random.shuffle(A)\n",
    "\n",
    "print(A)\n",
    "for i in range(0,len(A)):\n",
    "    m = i \n",
    "    for j in range(int(i+1),len(A)):\n",
    "        if A[j] < A[m]:\n",
    "            m=j\n",
    "            #print(A[j])\n",
    "        if m!=i:\n",
    "            x = A[i]\n",
    "            A[i] = A[m]\n",
    "            A[m] = x\n",
    "            print(A)\n",
    "            \n",
    "A"
   ]
  },
  {
   "cell_type": "code",
   "execution_count": null,
   "metadata": {},
   "outputs": [],
   "source": []
  }
 ],
 "metadata": {
  "kernelspec": {
   "display_name": "Python 3",
   "language": "python",
   "name": "python3"
  },
  "language_info": {
   "codemirror_mode": {
    "name": "ipython",
    "version": 3
   },
   "file_extension": ".py",
   "mimetype": "text/x-python",
   "name": "python",
   "nbconvert_exporter": "python",
   "pygments_lexer": "ipython3",
   "version": "3.7.6"
  }
 },
 "nbformat": 4,
 "nbformat_minor": 4
}
