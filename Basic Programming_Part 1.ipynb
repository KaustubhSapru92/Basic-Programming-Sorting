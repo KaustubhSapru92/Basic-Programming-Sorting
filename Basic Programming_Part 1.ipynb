{
 "cells": [
  {
   "cell_type": "code",
   "execution_count": 1,
   "metadata": {},
   "outputs": [
    {
     "name": "stdout",
     "output_type": "stream",
     "text": [
      "Enter a number to check whether it is odd or even\n",
      "\n",
      "5\n",
      "Number is odd\n"
     ]
    }
   ],
   "source": [
    "#To check whether an entered number is odd or even\n",
    "while True:\n",
    "    try:\n",
    "        print('Enter a number to check whether it is odd or even\\n')\n",
    "        n1 = int(input())\n",
    "        if(n1 %2 == 0):\n",
    "            print('Number is even')\n",
    "        else:\n",
    "            print('Number is odd')\n",
    "        break\n",
    "        \n",
    "    except ValueError:\n",
    "        print('Invalid entery, please enter only integer value\\n')\n"
   ]
  },
  {
   "cell_type": "code",
   "execution_count": 2,
   "metadata": {},
   "outputs": [
    {
     "name": "stdout",
     "output_type": "stream",
     "text": [
      "Enter a number to check whether it is prime or not\n",
      "\n",
      "23\n",
      "The number is prime\n"
     ]
    }
   ],
   "source": [
    "#checking a prime number\n",
    "\n",
    "z= 0\n",
    "\n",
    "print('Enter a number to check whether it is prime or not\\n')\n",
    "a = int(input())\n",
    "for i in range(1, int(a+1)):\n",
    "    if(int(a) % int(i) == 0):\n",
    "        z = z+1\n",
    "if z == 2:\n",
    "    print('The number is prime')\n",
    "else:\n",
    "    print('The number aint prime')\n",
    "z= 0 "
   ]
  },
  {
   "cell_type": "code",
   "execution_count": 3,
   "metadata": {},
   "outputs": [
    {
     "name": "stdout",
     "output_type": "stream",
     "text": [
      "Given the number N, first N prime numbers\n",
      "25\n",
      "[] 0\n",
      "[1, 2, 3, 4, 5, 6, 7, 8, 9, 10, 11, 12, 13, 14, 15, 16, 17, 18, 19, 20, 21, 22, 23, 24, 25] [1, 1, 2, 1, 2, 3, 1, 2, 3, 4, 1, 2, 3, 4, 5, 1, 2, 3, 4, 5, 6, 1, 2, 3, 4, 5, 6, 7, 1, 2, 3, 4, 5, 6, 7, 8, 1, 2, 3, 4, 5, 6, 7, 8, 9, 1, 2, 3, 4, 5, 6, 7, 8, 9, 10, 1, 2, 3, 4, 5, 6, 7, 8, 9, 10, 11, 1, 2, 3, 4, 5, 6, 7, 8, 9, 10, 11, 12, 1, 2, 3, 4, 5, 6, 7, 8, 9, 10, 11, 12, 13, 1, 2, 3, 4, 5, 6, 7, 8, 9, 10, 11, 12, 13, 14, 1, 2, 3, 4, 5, 6, 7, 8, 9, 10, 11, 12, 13, 14, 15, 1, 2, 3, 4, 5, 6, 7, 8, 9, 10, 11, 12, 13, 14, 15, 16, 1, 2, 3, 4, 5, 6, 7, 8, 9, 10, 11, 12, 13, 14, 15, 16, 17, 1, 2, 3, 4, 5, 6, 7, 8, 9, 10, 11, 12, 13, 14, 15, 16, 17, 18, 1, 2, 3, 4, 5, 6, 7, 8, 9, 10, 11, 12, 13, 14, 15, 16, 17, 18, 19, 1, 2, 3, 4, 5, 6, 7, 8, 9, 10, 11, 12, 13, 14, 15, 16, 17, 18, 19, 20, 1, 2, 3, 4, 5, 6, 7, 8, 9, 10, 11, 12, 13, 14, 15, 16, 17, 18, 19, 20, 21, 1, 2, 3, 4, 5, 6, 7, 8, 9, 10, 11, 12, 13, 14, 15, 16, 17, 18, 19, 20, 21, 22, 1, 2, 3, 4, 5, 6, 7, 8, 9, 10, 11, 12, 13, 14, 15, 16, 17, 18, 19, 20, 21, 22, 23, 1, 2, 3, 4, 5, 6, 7, 8, 9, 10, 11, 12, 13, 14, 15, 16, 17, 18, 19, 20, 21, 22, 23, 24, 1, 2, 3, 4, 5, 6, 7, 8, 9, 10, 11, 12, 13, 14, 15, 16, 17, 18, 19, 20, 21, 22, 23, 24, 25] [1, 1, 2, 1, 2, 1, 2, 3, 1, 2, 1, 2, 3, 4, 1, 2, 1, 2, 3, 4, 1, 2, 3, 1, 2, 3, 4, 1, 2, 1, 2, 3, 4, 5, 6, 1, 2, 1, 2, 3, 4, 1, 2, 3, 4, 1, 2, 3, 4, 5, 1, 2, 1, 2, 3, 4, 5, 6, 1, 2, 1, 2, 3, 4, 5, 6, 1, 2, 3, 4, 1, 2, 3, 4, 1, 2, 1, 2, 3, 4, 5, 6, 7, 8, 1, 2, 3]\n",
      "\n",
      "Your prime numbers are:\n",
      "\n",
      "[2, 3, 5, 7, 11, 13, 17, 19, 23]\n"
     ]
    }
   ],
   "source": [
    "# printing the first N prime numbers\n",
    "\n",
    "L = []\n",
    "I = []\n",
    "J = []\n",
    "Z = []\n",
    "z=0\n",
    "print('Given the number N, first N prime numbers')\n",
    "N = int(input())\n",
    "print(L,z)\n",
    "for i in range(1,N+1):\n",
    "    #print(i)\n",
    "    I.append(i)\n",
    "    for j in range(1, i+1):\n",
    "        #print(j)\n",
    "        J.append(j)\n",
    "        if(int(i) % int(j) == 0):\n",
    "            z = z+1\n",
    "            Z.append(z)\n",
    "            #print(z)\n",
    "    if z == 2:\n",
    "        L.append(i)\n",
    "        \n",
    "    \n",
    "    z=0\n",
    "print(I,J,Z)\n",
    "\n",
    "print('\\nYour prime numbers are:\\n')\n",
    "print(L)\n",
    "#print(i)\n",
    "#print(j)\n",
    "#print(z)"
   ]
  },
  {
   "cell_type": "code",
   "execution_count": 4,
   "metadata": {},
   "outputs": [
    {
     "name": "stdout",
     "output_type": "stream",
     "text": [
      "Enter the number to calculate factorial\n",
      "\n",
      "6\n",
      "\n",
      "Your factorial is:\n",
      "720\n"
     ]
    }
   ],
   "source": [
    "#factorial of a number using recursion\n",
    "def factorial():\n",
    "    print('Enter the number to calculate factorial\\n')\n",
    "    n=int(input())\n",
    "\n",
    "    def fact1(n):\n",
    "        if(n == 0):\n",
    "            return 1\n",
    "        else:\n",
    "            return n*fact1(n-1)\n",
    "    print('\\nYour factorial is:')\n",
    "         \n",
    "    print(fact1(n))\n",
    "factorial()"
   ]
  },
  {
   "cell_type": "code",
   "execution_count": 5,
   "metadata": {},
   "outputs": [
    {
     "name": "stdout",
     "output_type": "stream",
     "text": [
      "Please enter the limit\n",
      "7\n",
      "\n",
      "Now select whether you would like to print even or odd numbers\n",
      "\n",
      "Enter \"E\" for Even numbers, \"O\" for Odd numbers\n",
      "E\n",
      "[0, 2, 4, 6]\n"
     ]
    }
   ],
   "source": [
    "#printing 1st N odd or even numbers \n",
    "\n",
    "N = int(input('Please enter the limit\\n'))\n",
    "\n",
    "print('\\nNow select whether you would like to print even or odd numbers\\n')\n",
    "string = input('Enter \"E\" for Even numbers, \"O\" for Odd numbers\\n')\n",
    "\n",
    "E =[]\n",
    "O =[]\n",
    "\n",
    "for i in range(0,N+1):\n",
    "    if(i%2 == 0):\n",
    "        E.append(int(i))\n",
    "        \n",
    "    else:\n",
    "        O.append(int(i))\n",
    "        \n",
    "if string == 'E':\n",
    "    print(E)\n",
    "    \n",
    "if string == 'O':\n",
    "    print(O)"
   ]
  },
  {
   "cell_type": "code",
   "execution_count": null,
   "metadata": {},
   "outputs": [],
   "source": []
  }
 ],
 "metadata": {
  "kernelspec": {
   "display_name": "Python 3",
   "language": "python",
   "name": "python3"
  },
  "language_info": {
   "codemirror_mode": {
    "name": "ipython",
    "version": 3
   },
   "file_extension": ".py",
   "mimetype": "text/x-python",
   "name": "python",
   "nbconvert_exporter": "python",
   "pygments_lexer": "ipython3",
   "version": "3.7.6"
  }
 },
 "nbformat": 4,
 "nbformat_minor": 4
}
