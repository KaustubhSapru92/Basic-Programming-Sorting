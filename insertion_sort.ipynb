{
 "cells": [
  {
   "cell_type": "code",
   "execution_count": 7,
   "metadata": {},
   "outputs": [],
   "source": [
    "def swapPositions(A, pos1, pos2): \n",
    "      \n",
    "    # popping both the elements from list \n",
    "    first_ele = A.pop(pos1)    \n",
    "    second_ele = A.pop(pos2-1) \n",
    "     \n",
    "    # inserting in each others positions \n",
    "    A.insert(pos1, second_ele)   \n",
    "    A.insert(pos2, first_ele)   \n",
    "      \n",
    "    return A"
   ]
  },
  {
   "cell_type": "code",
   "execution_count": 12,
   "metadata": {},
   "outputs": [
    {
     "name": "stdout",
     "output_type": "stream",
     "text": [
      "Enter the number of elements you want in an array\n",
      "10\n",
      "The unsorted array is: \n",
      "[2, 1, 4, 7, 3, 8, 9, 5, 6, 10]\n",
      "\n",
      "[2, 1, 4, 7, 3, 8, 9, 5, 6, 10]\n",
      "[1, 2, 4, 7, 3, 8, 9, 5, 6, 10]\n",
      "[1, 2, 4, 7, 3, 8, 9, 5, 6, 10]\n",
      "[1, 2, 4, 7, 3, 8, 9, 5, 6, 10]\n",
      "[1, 2, 3, 4, 7, 8, 9, 5, 6, 10]\n",
      "[1, 2, 3, 4, 7, 8, 9, 5, 6, 10]\n",
      "[1, 2, 3, 4, 7, 8, 9, 5, 6, 10]\n",
      "[1, 2, 3, 4, 5, 7, 8, 9, 6, 10]\n",
      "[1, 2, 3, 4, 5, 6, 7, 8, 9, 10]\n",
      "[1, 2, 3, 4, 5, 6, 7, 8, 9, 10]\n",
      "\n",
      "The sorted array using insertion sort:\n",
      "[1, 2, 3, 4, 5, 6, 7, 8, 9, 10]\n"
     ]
    }
   ],
   "source": [
    "#insertion sort algorithm \n",
    "import random\n",
    "A = []\n",
    "\n",
    "n = int(input('Enter the number of elements you want in an array\\n'))\n",
    "\n",
    "for i in range(1,n+1):\n",
    "    A.append(i)\n",
    "    \n",
    "random.shuffle(A)\n",
    "print('The unsorted array is: \\n' +str(A)+'\\n')\n",
    "\n",
    "i = 0\n",
    "x =0\n",
    "while i < len(A):\n",
    "    x = A[i]\n",
    "    j = i-1\n",
    "    while j >= 0 and A[j] > x:\n",
    "        swapPositions(A,j,j+1)\n",
    "        j = j-1\n",
    "    A[j+1] = x\n",
    "    print(A)\n",
    "    i=i+1\n",
    "    \n",
    "print('\\nThe sorted array using insertion sort:')\n",
    "print(A)"
   ]
  },
  {
   "cell_type": "code",
   "execution_count": null,
   "metadata": {},
   "outputs": [],
   "source": []
  }
 ],
 "metadata": {
  "kernelspec": {
   "display_name": "Python 3",
   "language": "python",
   "name": "python3"
  },
  "language_info": {
   "codemirror_mode": {
    "name": "ipython",
    "version": 3
   },
   "file_extension": ".py",
   "mimetype": "text/x-python",
   "name": "python",
   "nbconvert_exporter": "python",
   "pygments_lexer": "ipython3",
   "version": "3.7.6"
  }
 },
 "nbformat": 4,
 "nbformat_minor": 4
}
